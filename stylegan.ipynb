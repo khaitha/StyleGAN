{
 "cells": [
  {
   "cell_type": "code",
   "execution_count": 3,
   "metadata": {},
   "outputs": [],
   "source": [
    "import torch\n",
    "import torch.nn as nn\n",
    "import torch.optim as optim\n",
    "from torch.utils.data import DataLoader\n",
    "from torchvision import datasets, transforms"
   ]
  },
  {
   "cell_type": "code",
   "execution_count": 4,
   "metadata": {},
   "outputs": [],
   "source": [
    "class MappingNetwork(nn.Module):\n",
    "    def __init__(self,latent_dim, num_layers=8):\n",
    "        super(MappingNetwork, self).__init__()\n",
    "        layer = []\n",
    "\n",
    "        for _ in range(num_layers):\n",
    "            layer.append(nn.Linear(latent_dim, latent_dim))\n",
    "            layer.append(nn.LeakyReLU(0.2))\n",
    "        self.mapping = nn.Sequential(*layer)\n",
    "\n",
    "    def forward(self, x):\n",
    "        return self.mapping(x)"
   ]
  },
  {
   "cell_type": "code",
   "execution_count": 5,
   "metadata": {},
   "outputs": [],
   "source": [
    "def AdaIN(content,style):\n",
    "    size = content.size()\n",
    "    style_mean, style_std = style.mean(dim=1, keepdim=True), style.std(dim=1, keepdim=True)\n",
    "    content_mean, content_std = content.mean(dim=1, keepdim=True), content.std(dim=1, keepdim=True)\n",
    "    normalized = (content-content_mean)/content_std\n",
    "    return normalized*style_std+style_mean"
   ]
  },
  {
   "cell_type": "code",
   "execution_count": null,
   "metadata": {},
   "outputs": [],
   "source": []
  }
 ],
 "metadata": {
  "kernelspec": {
   "display_name": "Python 3",
   "language": "python",
   "name": "python3"
  },
  "language_info": {
   "codemirror_mode": {
    "name": "ipython",
    "version": 3
   },
   "file_extension": ".py",
   "mimetype": "text/x-python",
   "name": "python",
   "nbconvert_exporter": "python",
   "pygments_lexer": "ipython3",
   "version": "3.12.5"
  }
 },
 "nbformat": 4,
 "nbformat_minor": 2
}
